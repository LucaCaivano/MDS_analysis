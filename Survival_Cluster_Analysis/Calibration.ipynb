{
 "cells": [
  {
   "cell_type": "code",
   "execution_count": 1,
   "metadata": {},
   "outputs": [],
   "source": [
    "import numpy as np\n",
    "import pandas as pd\n",
    "import matplotlib.pyplot as plt\n",
    "import matplotlib.patches as mpatches\n",
    "import seaborn as sns\n",
    "from lifelines import KaplanMeierFitter\n",
    "from lifelines.utils import concordance_index\n",
    "from scipy import stats\n",
    "from scipy.stats import linregress\n",
    "\n",
    "fontsize = 14\n",
    "SMALL_SIZE = 8\n",
    "MEDIUM_SIZE = 10\n",
    "BIGGER_SIZE = 12\n",
    "legend_size =14\n",
    "plt.rc('font', size=MEDIUM_SIZE)  # controls default text sizes\n",
    "plt.rc('axes', titlesize=MEDIUM_SIZE)  # fontsize of the axes title\n",
    "plt.rc('axes', labelsize=MEDIUM_SIZE)  # fontsize of the x and y labels\n",
    "plt.rc('xtick', labelsize=MEDIUM_SIZE)  # fontsize of the tick labels\n",
    "plt.rc('ytick', labelsize=MEDIUM_SIZE)  # fontsize of the tick labels\n",
    "plt.rc('legend', fontsize=MEDIUM_SIZE)  # legend fontsize\n",
    "plt.rc('figure', titlesize=BIGGER_SIZE)  # fontsize of the figure title\n",
    "plt.rc('xtick', labelsize=20)\n",
    "plt.rc('ytick', labelsize=20)\n",
    "\n",
    "font = {'family': 'normal',\n",
    "        'weight': 'bold',\n",
    "        'size': 24}\n",
    "\n",
    "plt.rc('font', **font)\n",
    "params = {'legend.fontsize': 'x-large',\n",
    "          # 'figure.figsize': (15, 5),\n",
    "          'axes.labelsize': 'x-large',\n",
    "          'axes.titlesize': 'x-large',\n",
    "          'xtick.labelsize': 'x-large',\n",
    "          'ytick.labelsize': 'x-large'}\n",
    "plt.rcParams.update(params)\n",
    "plt.rcParams['pdf.fonttype'] = 42\n",
    "plt.rcParams['ps.fonttype'] = 42\n",
    "\n",
    "sns.set_style('white')\n",
    "sns.set_context('paper')\n",
    "sns.set()"
   ]
  },
  {
   "cell_type": "markdown",
   "metadata": {},
   "source": [
    "# Load Data"
   ]
  },
  {
   "cell_type": "code",
   "execution_count": 2,
   "metadata": {},
   "outputs": [
    {
     "name": "stdout",
     "output_type": "stream",
     "text": [
      "data_path:  matrix/\n",
      "event:  (233,)\n",
      "empirical:  (233,)\n",
      "EVENT RATE:  0.3605150214592275\n"
     ]
    }
   ],
   "source": [
    "dataset = 'mds'\n",
    "gamma = 3\n",
    "\n",
    "if dataset == 'seer':\n",
    "    time = 'months'    \n",
    "else:  \n",
    "    time = 'days'\n",
    "\n",
    "# data_path = 'analysis/{}/'.format(dataset)\n",
    "data_path = 'matrix/'.format(dataset)\n",
    "empirical = np.load(data_path + \"Test_empirical_t.npy\")\n",
    "event  = np.load(data_path + \"Test_empirical_e.npy\")\n",
    "print(\"data_path: \", data_path)\n",
    "print(\"event: \", event.shape)\n",
    "print(\"empirical: \", empirical.shape)\n",
    "print(\"EVENT RATE: \", np.sum(event)/len(event))\n",
    "assert(len(event) == len(empirical))\n",
    "\n",
    "t_empirical_range = np.unique(np.sort(np.append(empirical, [0])))"
   ]
  },
  {
   "cell_type": "code",
   "execution_count": 3,
   "metadata": {},
   "outputs": [
    {
     "name": "stdout",
     "output_type": "stream",
     "text": [
      "(200, 233)\n"
     ]
    }
   ],
   "source": [
    "# load observed & censored\n",
    "# sca = np.load(data_path + 'sca/gamma_{}/Test_predicted_t_samples.npy'.format(gamma))\n",
    "sca = np.load(data_path + 'Test_predicted_t_samples.npy'.format(gamma))\n",
    "\n",
    "print (sca.shape)\n",
    "\n"
   ]
  },
  {
   "cell_type": "code",
   "execution_count": 4,
   "metadata": {},
   "outputs": [
    {
     "name": "stdout",
     "output_type": "stream",
     "text": [
      "predicted_samples_sca:  (233, 200)\n"
     ]
    }
   ],
   "source": [
    "predicted_samples_sca  = np.transpose(sca)\n",
    "print(\"predicted_samples_sca: \", predicted_samples_sca.shape)\n"
   ]
  },
  {
   "cell_type": "markdown",
   "metadata": {},
   "source": [
    "## CI Index"
   ]
  },
  {
   "cell_type": "code",
   "execution_count": 5,
   "metadata": {},
   "outputs": [
    {
     "name": "stdout",
     "output_type": "stream",
     "text": [
      "SCA CI INDEX:  0.72354272778721\n"
     ]
    }
   ],
   "source": [
    "def ci_index(predicted_event_times, event, event_times):\n",
    "    return concordance_index(event_times=event_times, predicted_event_times=predicted_event_times.tolist(),\n",
    "                                     event_observed=event)\n",
    "print(\"SCA CI INDEX: \", ci_index(np.median(predicted_samples_sca, axis=1), \n",
    "                                 event=event,\n",
    "                                 event_times=empirical))\n"
   ]
  },
  {
   "cell_type": "markdown",
   "metadata": {},
   "source": [
    "## RAE "
   ]
  },
  {
   "cell_type": "code",
   "execution_count": 6,
   "metadata": {},
   "outputs": [],
   "source": [
    "# Relative absolute Error from MTLR\n",
    "def MTLR_RAE(pred_samp, emp_t_i, cens_t):\n",
    "    constant = 1e-8\n",
    "    pred_t_i = np.median(pred_samp, axis=1)\n",
    "    abs_error_i = np.abs(pred_t_i -emp_t_i)\n",
    "    pred_great_empirical = pred_t_i > emp_t_i\n",
    "    min_rea_i = np.minimum(np.divide(abs_error_i, emp_t_i + 1e-8), 1.0)\n",
    "    idx_cond = np.logical_and(cens_t, pred_great_empirical)\n",
    "    min_rea_i[idx_cond] = 0.0\n",
    "    \n",
    "    return np.sum(min_rea_i)/ len(emp_t_i)"
   ]
  },
  {
   "cell_type": "code",
   "execution_count": 7,
   "metadata": {},
   "outputs": [],
   "source": [
    "def print_rae(samples, method):\n",
    "    observed = event ==1\n",
    "    rae = MTLR_RAE(pred_samp=samples[observed], emp_t_i=empirical[observed], cens_t=1-event[observed])\n",
    "    print(method, rae)"
   ]
  },
  {
   "cell_type": "code",
   "execution_count": 8,
   "metadata": {},
   "outputs": [
    {
     "name": "stdout",
     "output_type": "stream",
     "text": [
      "SCA RAE Observed 0.6009739959835195\n"
     ]
    }
   ],
   "source": [
    "print_rae(predicted_samples_sca, \"SCA RAE Observed\")"
   ]
  },
  {
   "cell_type": "code",
   "execution_count": 9,
   "metadata": {},
   "outputs": [],
   "source": [
    "def print_rae(samples, method):\n",
    "    censored = event == 0\n",
    "    rae = MTLR_RAE(pred_samp=samples[censored], emp_t_i=empirical[censored], cens_t=1-event[censored])\n",
    "    print(method, rae)"
   ]
  },
  {
   "cell_type": "code",
   "execution_count": 10,
   "metadata": {},
   "outputs": [
    {
     "name": "stdout",
     "output_type": "stream",
     "text": [
      "SCA RAE Censored 0.20173926449930316\n"
     ]
    }
   ],
   "source": [
    "print_rae(predicted_samples_sca, \"SCA RAE Censored\")"
   ]
  },
  {
   "cell_type": "code",
   "execution_count": 11,
   "metadata": {},
   "outputs": [
    {
     "data": {
      "text/html": [
       "<div>\n",
       "<style scoped>\n",
       "    .dataframe tbody tr th:only-of-type {\n",
       "        vertical-align: middle;\n",
       "    }\n",
       "\n",
       "    .dataframe tbody tr th {\n",
       "        vertical-align: top;\n",
       "    }\n",
       "\n",
       "    .dataframe thead th {\n",
       "        text-align: right;\n",
       "    }\n",
       "</style>\n",
       "<table border=\"1\" class=\"dataframe\">\n",
       "  <thead>\n",
       "    <tr style=\"text-align: right;\">\n",
       "      <th></th>\n",
       "      <th>removed</th>\n",
       "      <th>observed</th>\n",
       "      <th>censored</th>\n",
       "      <th>entrance</th>\n",
       "      <th>at_risk</th>\n",
       "    </tr>\n",
       "    <tr>\n",
       "      <th>event_at</th>\n",
       "      <th></th>\n",
       "      <th></th>\n",
       "      <th></th>\n",
       "      <th></th>\n",
       "      <th></th>\n",
       "    </tr>\n",
       "  </thead>\n",
       "  <tbody>\n",
       "    <tr>\n",
       "      <th>0.0</th>\n",
       "      <td>0</td>\n",
       "      <td>0</td>\n",
       "      <td>0</td>\n",
       "      <td>233</td>\n",
       "      <td>233</td>\n",
       "    </tr>\n",
       "    <tr>\n",
       "      <th>11.0</th>\n",
       "      <td>2</td>\n",
       "      <td>1</td>\n",
       "      <td>1</td>\n",
       "      <td>0</td>\n",
       "      <td>233</td>\n",
       "    </tr>\n",
       "    <tr>\n",
       "      <th>22.0</th>\n",
       "      <td>1</td>\n",
       "      <td>0</td>\n",
       "      <td>1</td>\n",
       "      <td>0</td>\n",
       "      <td>231</td>\n",
       "    </tr>\n",
       "    <tr>\n",
       "      <th>30.0</th>\n",
       "      <td>1</td>\n",
       "      <td>0</td>\n",
       "      <td>1</td>\n",
       "      <td>0</td>\n",
       "      <td>230</td>\n",
       "    </tr>\n",
       "    <tr>\n",
       "      <th>35.0</th>\n",
       "      <td>1</td>\n",
       "      <td>0</td>\n",
       "      <td>1</td>\n",
       "      <td>0</td>\n",
       "      <td>229</td>\n",
       "    </tr>\n",
       "    <tr>\n",
       "      <th>...</th>\n",
       "      <td>...</td>\n",
       "      <td>...</td>\n",
       "      <td>...</td>\n",
       "      <td>...</td>\n",
       "      <td>...</td>\n",
       "    </tr>\n",
       "    <tr>\n",
       "      <th>4128.0</th>\n",
       "      <td>1</td>\n",
       "      <td>0</td>\n",
       "      <td>1</td>\n",
       "      <td>0</td>\n",
       "      <td>5</td>\n",
       "    </tr>\n",
       "    <tr>\n",
       "      <th>4228.0</th>\n",
       "      <td>1</td>\n",
       "      <td>0</td>\n",
       "      <td>1</td>\n",
       "      <td>0</td>\n",
       "      <td>4</td>\n",
       "    </tr>\n",
       "    <tr>\n",
       "      <th>4850.0</th>\n",
       "      <td>1</td>\n",
       "      <td>0</td>\n",
       "      <td>1</td>\n",
       "      <td>0</td>\n",
       "      <td>3</td>\n",
       "    </tr>\n",
       "    <tr>\n",
       "      <th>5007.0</th>\n",
       "      <td>1</td>\n",
       "      <td>0</td>\n",
       "      <td>1</td>\n",
       "      <td>0</td>\n",
       "      <td>2</td>\n",
       "    </tr>\n",
       "    <tr>\n",
       "      <th>7079.0</th>\n",
       "      <td>1</td>\n",
       "      <td>0</td>\n",
       "      <td>1</td>\n",
       "      <td>0</td>\n",
       "      <td>1</td>\n",
       "    </tr>\n",
       "  </tbody>\n",
       "</table>\n",
       "<p>220 rows × 5 columns</p>\n",
       "</div>"
      ],
      "text/plain": [
       "          removed  observed  censored  entrance  at_risk\n",
       "event_at                                                \n",
       "0.0             0         0         0       233      233\n",
       "11.0            2         1         1         0      233\n",
       "22.0            1         0         1         0      231\n",
       "30.0            1         0         1         0      230\n",
       "35.0            1         0         1         0      229\n",
       "...           ...       ...       ...       ...      ...\n",
       "4128.0          1         0         1         0        5\n",
       "4228.0          1         0         1         0        4\n",
       "4850.0          1         0         1         0        3\n",
       "5007.0          1         0         1         0        2\n",
       "7079.0          1         0         1         0        1\n",
       "\n",
       "[220 rows x 5 columns]"
      ]
     },
     "execution_count": 11,
     "metadata": {},
     "output_type": "execute_result"
    },
    {
     "data": {
      "image/png": "[encoded data removed]",
      "text/plain": [
       "<Figure size 432x288 with 1 Axes>"
      ]
     },
     "metadata": {},
     "output_type": "display_data"
    }
   ],
   "source": [
    "# \n",
    "kmf = KaplanMeierFitter()\n",
    "kmf.fit(empirical, event_observed=event)  \n",
    "kmf.median_\n",
    "kmf.plot()\n",
    "kmf.event_table"
   ]
  },
  {
   "cell_type": "code",
   "execution_count": 12,
   "metadata": {},
   "outputs": [],
   "source": [
    "range_quant = np.arange(start=0, stop=1.010, step=0.010)\n",
    "t_empirical_range = np.unique(np.sort(np.append(empirical, [0])))\n",
    "km_pred_alive_prob = [kmf.predict(i) for i in t_empirical_range]\n",
    "empirical_dead = 1 - np.array(km_pred_alive_prob)\n",
    "# print(\"empirical_dead: \", empirical_dead, \"size: \", len(empirical_dead))"
   ]
  },
  {
   "cell_type": "code",
   "execution_count": 13,
   "metadata": {},
   "outputs": [],
   "source": [
    "# Bounds\n",
    "def ci_bounds(surv_t,cumulative_sq_,  alpha=0.95):\n",
    "    #print(\"surv_t: \", surv_t, \"cumulative_sq_: \", cumulative_sq_)\n",
    "    # This method calculates confidence intervals using the exponential Greenwood formula.\n",
    "    # See https://www.math.wustl.edu/%7Esawyer/handouts/greenwood.pdf\n",
    "    #alpha = 0.95 \n",
    "    if surv_t > 0.999:\n",
    "        surv_t = 1\n",
    "        cumulative_sq_ = 0\n",
    "    alpha = 0.95\n",
    "    constant = 1e-8\n",
    "    alpha2 = stats.norm.ppf((1. + alpha) / 2.)\n",
    "    v = np.log(surv_t)\n",
    "    left_ci = np.log(-v)\n",
    "    right_ci = alpha2 * np.sqrt(cumulative_sq_) * 1/v\n",
    "\n",
    "    c_plus = left_ci + right_ci\n",
    "    c_neg = left_ci - right_ci\n",
    "    \n",
    "    ci_lower = np.exp(-np.exp(c_plus))\n",
    "    ci_upper = np.exp(-np.exp(c_neg))\n",
    "       \n",
    "    return [ci_lower, ci_upper]"
   ]
  },
  {
   "cell_type": "code",
   "execution_count": 14,
   "metadata": {},
   "outputs": [],
   "source": [
    " #Population wise cdf \n",
    "def compute_km_dist(predicted_samples, t_empirical_range, observed=None):\n",
    "    km_dead = []\n",
    "    km_surv = 1\n",
    "    \n",
    "    km_var = []\n",
    "    km_ci = []\n",
    "    km_sum = 0\n",
    "    \n",
    "    kernel = []\n",
    "    e_event = event\n",
    "    \n",
    "    if observed:\n",
    "        predicted_samples = predicted_samples[event==1]\n",
    "        e_event = e_event[event_test==1]\n",
    "        \n",
    "            \n",
    "    for j in np.arange(len(t_empirical_range)):\n",
    "        r = t_empirical_range[j]\n",
    "        low = 0 if j ==0 else t_empirical_range[j-1]\n",
    "        area = 0\n",
    "        censored = 0\n",
    "        dead = 0\n",
    "        at_risk = len(predicted_samples)\n",
    "        count_death = 0\n",
    "        for i in np.arange(len(predicted_samples)):\n",
    "            e = e_event[i]\n",
    "            if len(kernel)!= len(predicted_samples):\n",
    "                kernel_i = stats.gaussian_kde(predicted_samples[i]) \n",
    "                kernel.append(kernel_i)\n",
    "            else:\n",
    "                kernel_i = kernel[i]\n",
    "            at_risk = at_risk - kernel_i.integrate_box_1d(low=0, high=low)\n",
    "            \n",
    "            if e == 1:\n",
    "                count_death+= kernel_i.integrate_box_1d(low=low, high=r)\n",
    "        if at_risk == 0:\n",
    "            break\n",
    "        km_int_surv = 1 - count_death/at_risk\n",
    "        km_int_sum = count_death / (at_risk * (at_risk - count_death))\n",
    "        \n",
    "        km_surv = km_surv * km_int_surv\n",
    "        km_sum = km_sum + km_int_sum\n",
    "        \n",
    "        km_ci.append(ci_bounds(cumulative_sq_=km_sum, surv_t=km_surv))\n",
    "    \n",
    "    \n",
    "        km_dead.append(1-km_surv)\n",
    "        km_var.append(km_surv * km_surv * km_sum)\n",
    "      \n",
    "    return np.array(km_dead), np.array(km_var), np.array(km_ci)"
   ]
  },
  {
   "cell_type": "code",
   "execution_count": 15,
   "metadata": {},
   "outputs": [],
   "source": [
    "#\n",
    "km_dead_dist_sca, km_var_dist_sca, km_dist_ci_sca = compute_km_dist(predicted_samples_sca, \n",
    "                                                                    t_empirical_range=t_empirical_range)\n"
   ]
  },
  {
   "cell_type": "code",
   "execution_count": 16,
   "metadata": {
    "scrolled": true
   },
   "outputs": [
    {
     "data": {
      "text/plain": [
       "<matplotlib.legend.Legend at 0x7fc0fd151460>"
      ]
     },
     "execution_count": 16,
     "metadata": {},
     "output_type": "execute_result"
    },
    {
     "data": {
      "image/png": "[encoded data removed]",
      "text/plain": [
       "<Figure size 360x288 with 1 Axes>"
      ]
     },
     "metadata": {},
     "output_type": "display_data"
    }
   ],
   "source": [
    "plt.figure(figsize=(5,4))\n",
    "plt.plot(np.array(empirical_dead),np.array(empirical_dead), '--', color='black', lw=2, label='Empirical')\n",
    "plt.step(x=np.array(km_dead_dist_sca), y=np.array(empirical_dead), label='SCA', color='brown', lw=2, alpha=0.5)\n",
    "plt.xlabel('Model Predicted dead',  fontsize=fontsize)\n",
    "plt.ylabel('Empirical dead',  fontsize=fontsize)\n",
    "plt.tight_layout()\n",
    "plt.legend(loc='best', fontsize=legend_size)"
   ]
  },
  {
   "cell_type": "code",
   "execution_count": 17,
   "metadata": {
    "scrolled": true
   },
   "outputs": [
    {
     "data": {
      "image/png": "[encoded data removed]",
      "text/plain": [
       "<Figure size 360x288 with 1 Axes>"
      ]
     },
     "metadata": {},
     "output_type": "display_data"
    },
    {
     "data": {
      "text/plain": [
       "<Figure size 432x288 with 0 Axes>"
      ]
     },
     "metadata": {},
     "output_type": "display_data"
    }
   ],
   "source": [
    "fig=plt.figure(figsize=(5,4))\n",
    "plt.xlabel(\"Time ({})\".format(time),  fontsize=fontsize)\n",
    "plt.ylabel(\"Probability of survival\",  fontsize=fontsize)\n",
    "\n",
    "\n",
    "plt.step(x = t_empirical_range, y = 1-km_dead_dist_sca, label='SCA', color='brown', lw=2)\n",
    "plt.fill_between( t_empirical_range, km_dist_ci_sca[:, 0], km_dist_ci_sca[:, 1], \n",
    "                 alpha=0.3, color='brown', linestyle=\"-\", linewidth=1)\n",
    "\n",
    "    \n",
    "plt.step(x = t_empirical_range, y = 1-empirical_dead, label='Empirical', color='black', lw=2)\n",
    "plt.legend(loc='best', fontsize=legend_size)\n",
    "plt.show()\n",
    "plt.tight_layout()"
   ]
  },
  {
   "cell_type": "code",
   "execution_count": 18,
   "metadata": {},
   "outputs": [],
   "source": [
    "# calibration slope\n",
    "def print_cal(predicted, model):\n",
    "    slope, intercept, r_value, p_value, std_err = linregress(x=predicted, y=empirical_dead)\n",
    "    print( model, \"slope: \", slope, \"intercept: \", intercept, \"p_value: \", p_value, \"std_err: \", std_err)\n",
    "    "
   ]
  },
  {
   "cell_type": "code",
   "execution_count": 19,
   "metadata": {},
   "outputs": [
    {
     "name": "stdout",
     "output_type": "stream",
     "text": [
      "SCA Calibration slope:  0.9575624148766192 intercept:  0.004780865644852694 p_value:  1.787448021913479e-153 std_err:  0.013368139772685098\n"
     ]
    }
   ],
   "source": [
    "print_cal(km_dead_dist_sca, \"SCA Calibration\")"
   ]
  },
  {
   "cell_type": "code",
   "execution_count": null,
   "metadata": {},
   "outputs": [],
   "source": []
  }
 ],
 "metadata": {
  "kernelspec": {
   "display_name": "Python 3",
   "language": "python",
   "name": "python3"
  },
  "language_info": {
   "codemirror_mode": {
    "name": "ipython",
    "version": 3
   },
   "file_extension": ".py",
   "mimetype": "text/x-python",
   "name": "python",
   "nbconvert_exporter": "python",
   "pygments_lexer": "ipython3",
   "version": "3.8.3"
  }
 },
 "nbformat": 4,
 "nbformat_minor": 2
}
